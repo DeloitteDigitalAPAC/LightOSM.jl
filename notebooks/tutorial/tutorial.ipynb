{
 "cells": [
  {
   "cell_type": "markdown",
   "metadata": {},
   "source": [
    "# LightOSM.jl Tutorial\n",
    "\n",
    "This is a comprehensive tutorial on the usage of __[`LightOSM.jl`](https://github.com/DeloitteDigitalAPAC/LightOSM.jl)__, see the __[documentation](https://deloittedigitalapac.github.io/LightOSM.jl/docs/)__ for further details on the interface and methods."
   ]
  },
  {
   "cell_type": "markdown",
   "metadata": {},
   "source": [
    "\n",
    "## Setup and Prerequisites\n",
    "\n",
    "First configure the logger:"
   ]
  },
  {
   "cell_type": "code",
   "execution_count": null,
   "metadata": {},
   "outputs": [],
   "source": [
    "using Logging\n",
    "logger = SimpleLogger(stdout)\n",
    "global_logger(logger);"
   ]
  },
  {
   "cell_type": "markdown",
   "metadata": {},
   "source": [
    "Install the Julia dependencies:"
   ]
  },
  {
   "cell_type": "code",
   "execution_count": null,
   "metadata": {},
   "outputs": [],
   "source": [
    "using Pkg\n",
    "Pkg.add(\"LightOSM\")\n",
    "Pkg.add(\"PyCall\");"
   ]
  },
  {
   "cell_type": "markdown",
   "metadata": {},
   "source": [
    "Set a seed so this tutorial is reproducible:"
   ]
  },
  {
   "cell_type": "code",
   "execution_count": null,
   "metadata": {},
   "outputs": [],
   "source": [
    "using Random\n",
    "Random.seed!(1234);"
   ]
  },
  {
   "cell_type": "markdown",
   "metadata": {},
   "source": [
    "For visualisation, this tutorial uses the Python package __[pydeck](https://github.com/visgl/deck.gl/tree/master/bindings/pydeck)__ (a Python binding for Uber's graphics library __[deck.gl](https://github.com/visgl/deck.gl)__), and is called from Julia using __[PyCall.jl](https://github.com/JuliaPy/PyCall.jl)__.\n",
    "\n",
    "The official release of pydeck does not work with PyCall, you must install this __[forked version](https://github.com/captchanjack/deck.gl/tree/pydeck/julia-pycall-binding/bindings/pydeck)__ to the same virtual environment that PyCall is built with (might take a couple of minutes):\n",
    "\n",
    "`\n",
    "git clone --single-branch --branch pydeck/julia-pycall-binding git@github.com:captchanjack/deck.gl.git\n",
    "cd deck.gl/bindings/pydeck\n",
    "yarn bootstrap\n",
    "pip install .\n",
    "`"
   ]
  },
  {
   "cell_type": "markdown",
   "metadata": {},
   "source": [
    "## Download OpenStreetMap network data\n",
    "\n",
    "Download `:drive` network data as an object by searching a `:place_name`, notice there is an option to save that object to disk, the default data format is `:osm` (this is basically an .xml file but can be opened and visualized with __[JOSM](https://josm.openstreetmap.de/)__, *note JOSM can only open the file if keyword argument `metadata=true` when downloading*):"
   ]
  },
  {
   "cell_type": "code",
   "execution_count": null,
   "metadata": {},
   "outputs": [],
   "source": [
    "using LightOSM\n",
    "data = download_osm_network(:place_name,\n",
    "                            place_name=\"melbourne, australia\",\n",
    "                            network_type=:drive,\n",
    "                            save_to_file_location=\"melbourne_drive_network.osm\");"
   ]
  },
  {
   "cell_type": "markdown",
   "metadata": {},
   "source": [
    "## Understanding the OSMGraph object\n",
    "\n",
    "With the downloaded data we can instantiate an `OSMGraph` object, which is a container for all the parsed data, `DiGraph` object, and `KDTree` object needed for shortest path and nearest node calculations. By default the graph object is a `StaticDiGraph` from __[StaticGraphs.jl](https://github.com/JuliaGraphs/StaticGraphs.jl)__ as it is more memory-efficient:"
   ]
  },
  {
   "cell_type": "code",
   "execution_count": null,
   "metadata": {},
   "outputs": [],
   "source": [
    "g = graph_from_object(data, weight_type=:distance); # default weight_type is travel :time\n",
    "# or g = graph_from_file(\"melbourne_drive_network.osm\")\n",
    "# or g = graph_from_download(:place_name, place_name=\"melbourne, australia\")"
   ]
  },
  {
   "cell_type": "markdown",
   "metadata": {},
   "source": [
    "Mapping of all `Node` objects:"
   ]
  },
  {
   "cell_type": "code",
   "execution_count": null,
   "metadata": {},
   "outputs": [],
   "source": [
    "g.nodes # node id => Node"
   ]
  },
  {
   "cell_type": "markdown",
   "metadata": {},
   "source": [
    "Let's pick two `Node`s for use throughout this tutorial:"
   ]
  },
  {
   "cell_type": "code",
   "execution_count": null,
   "metadata": {},
   "outputs": [],
   "source": [
    "n1 = g.nodes[443298633]\n",
    "n2 = g.nodes[7620884608];"
   ]
  },
  {
   "cell_type": "markdown",
   "metadata": {},
   "source": [
    "`Node` location:"
   ]
  },
  {
   "cell_type": "code",
   "execution_count": null,
   "metadata": {},
   "outputs": [],
   "source": [
    "n1.location"
   ]
  },
  {
   "cell_type": "markdown",
   "metadata": {},
   "source": [
    "Haversine distance between `n1` and `n2`:"
   ]
  },
  {
   "cell_type": "code",
   "execution_count": null,
   "metadata": {},
   "outputs": [],
   "source": [
    "distance(n1, n2) # km"
   ]
  },
  {
   "cell_type": "markdown",
   "metadata": {},
   "source": [
    "Bearing from `n1` to `n2`:"
   ]
  },
  {
   "cell_type": "code",
   "execution_count": null,
   "metadata": {},
   "outputs": [],
   "source": [
    "heading(n1, n2) # degrees from North"
   ]
  },
  {
   "cell_type": "markdown",
   "metadata": {},
   "source": [
    "`Node` tags:"
   ]
  },
  {
   "cell_type": "code",
   "execution_count": null,
   "metadata": {},
   "outputs": [],
   "source": [
    "n1.tags"
   ]
  },
  {
   "cell_type": "markdown",
   "metadata": {},
   "source": [
    "Mapping of all `Way` objects:"
   ]
  },
  {
   "cell_type": "code",
   "execution_count": null,
   "metadata": {},
   "outputs": [],
   "source": [
    "g.highways # way id => Highway"
   ]
  },
  {
   "cell_type": "markdown",
   "metadata": {},
   "source": [
    "`Highway` nodes:"
   ]
  },
  {
   "cell_type": "code",
   "execution_count": null,
   "metadata": {},
   "outputs": [],
   "source": [
    "g.highways[13752475].nodes"
   ]
  },
  {
   "cell_type": "markdown",
   "metadata": {},
   "source": [
    "`Highway` tags:"
   ]
  },
  {
   "cell_type": "code",
   "execution_count": null,
   "metadata": {},
   "outputs": [],
   "source": [
    "g.highways[13752475].tags"
   ]
  },
  {
   "cell_type": "markdown",
   "metadata": {},
   "source": [
    "Mapping of all `restriction` objects:"
   ]
  },
  {
   "cell_type": "code",
   "execution_count": null,
   "metadata": {},
   "outputs": [],
   "source": [
    "g.restrictions # relation id => Restriction"
   ]
  },
  {
   "cell_type": "markdown",
   "metadata": {},
   "source": [
    "`Restriction` tags:"
   ]
  },
  {
   "cell_type": "code",
   "execution_count": null,
   "metadata": {},
   "outputs": [],
   "source": [
    "g.restrictions[8221605].tags"
   ]
  },
  {
   "cell_type": "markdown",
   "metadata": {},
   "source": [
    "## Visualise network data with pydeck and PyCall\n",
    "\n",
    "First initialise the pydeck object, view state and Mapbox token, if you don't have one you can create a __[free account](https://account.mapbox.com/auth/signup/)__:"
   ]
  },
  {
   "cell_type": "code",
   "execution_count": null,
   "metadata": {},
   "outputs": [],
   "source": [
    "using PyCall\n",
    "pydeck = pyimport(\"pydeck\")\n",
    "\n",
    "MAPBOX_TOKEN = \"pk.eyJ1IjoiY2FwdGNoYW5qYWNrIiwiYSI6ImNrMzJ1enJoZjBueWwzY245ZDV0YjJ3Z3YifQ.VAWolOVu6eDYSnj3SC4NeQ\"\n",
    "MAXPBOX_STYLE = \"mapbox://styles/captchanjack/ckepp735v2m2719lirl762qbi\"\n",
    "VIEWPORT_LOCATION = GeoLocation(-37.8142176, 144.9631608) # Melbourne (lat, lon)\n",
    "\n",
    "view_state = pydeck.ViewState(longitude=VIEWPORT_LOCATION.lon,\n",
    "                              latitude=VIEWPORT_LOCATION.lat,\n",
    "                              zoom=13,\n",
    "                              min_zoom=1,\n",
    "                              max_zoom=25,\n",
    "                              pitch=50,\n",
    "                              bearing=-45);"
   ]
  },
  {
   "cell_type": "markdown",
   "metadata": {},
   "source": [
    "Visualise `Node` objects using the __[ScatterplotLayer](https://pydeck.gl/gallery/scatterplot_layer.html?highlight=scatterplot)__:"
   ]
  },
  {
   "cell_type": "code",
   "execution_count": null,
   "metadata": {
    "scrolled": false
   },
   "outputs": [],
   "source": [
    "# Transform data\n",
    "nodes_pydeck_data = [\n",
    "    Dict(\n",
    "        \"ID\" => id,\n",
    "        \"Type\" => \"Node\",\n",
    "        \"Longitude\" => node.location.lon,\n",
    "        \"Latitude\" => node.location.lat,\n",
    "        \"Coordinates\" => string([node.location.lon, node.location.lat]),\n",
    "        \"Name\" => \"\",\n",
    "        \"Maxspeed\" => \"\",\n",
    "        \"Lanes\" => \"\",\n",
    "        \"Oneway\" => \"\",\n",
    "    ) for (id, node) in g.nodes\n",
    "]\n",
    "\n",
    "# Build the layer\n",
    "nodes_layer = pydeck.Layer(\"ScatterplotLayer\",\n",
    "                           nodes_pydeck_data,\n",
    "                           pickable=true,\n",
    "                           opacity=0.8,\n",
    "                           stroked=true,\n",
    "                           filled=true,\n",
    "                           line_width_min_pixels=5,\n",
    "                           line_width_max_pixels=5,\n",
    "                           line_width_scale=1,\n",
    "                           auto_highlight=true,\n",
    "                           get_position=[\"Longitude\", \"Latitude\"],\n",
    "                           get_radius=1,\n",
    "                           radius_scale=1,\n",
    "                           get_line_width=1,\n",
    "                           get_line_color=[255, 98, 0, 255],\n",
    "                           get_fill_color=[255,156,93, 255])\n",
    "\n",
    "# Define tooltip\n",
    "tooltip_style = Dict(\n",
    "    \"color\" => \"white\",\n",
    "    \"border-radius\" => \"10px\",\n",
    "    \"border-color\" => \"dark grey\",\n",
    "    \"background-color\" => \"CadetBlue\",\n",
    "    \"font-family\" => \"Trebuchet MS\",\n",
    "    \"z-index\" => 3,\n",
    "    \"position\" => \"absolute\"\n",
    ")\n",
    "\n",
    "nodes_tooltip = Dict(\n",
    "    \"html\" => \"<b>ID:</b> {ID}<br><b>Coordinates:</b> {Coordinates}\",\n",
    "    \"style\" => tooltip_style\n",
    ")\n",
    "\n",
    "# Build the deck\n",
    "r = pydeck.Deck(layers=[nodes_layer],\n",
    "                initial_view_state=view_state,\n",
    "                mapbox_key=MAPBOX_TOKEN,\n",
    "                map_style=MAXPBOX_STYLE,\n",
    "                tooltip=nodes_tooltip)\n",
    "\n",
    "# Save to .html file and display\n",
    "r.to_html(\"nodes.html\", notebook_display=true)"
   ]
  },
  {
   "cell_type": "markdown",
   "metadata": {},
   "source": [
    "Add `Way` objects to the same deck using the __[PathLayer](https://pydeck.gl/gallery/path_layer.html?highlight=pathlayer)__:"
   ]
  },
  {
   "cell_type": "code",
   "execution_count": null,
   "metadata": {},
   "outputs": [],
   "source": [
    "# Create a mapping of number of lanes to colours (monochromatic green)\n",
    "COLOUR_MAPPING = Dict(\n",
    "    1 => [18, 231, 114],\n",
    "    2 => [53, 181, 53],\n",
    "    3 => [0, 107, 60],\n",
    "    4 => [0, 86, 63],\n",
    "    5 => [1, 50, 32]\n",
    ")\n",
    "\n",
    "DEFAULT_GREEN = [5, 102, 68] # more than 5 lanes\n",
    "\n",
    "delete_quotes(str) = replace(str, r\"'|\\\"\" => \" \") # deals with names with quotes (single or double apostrophe)\n",
    "\n",
    "# Transform data\n",
    "ways_pydeck_data = [\n",
    "    Dict(\n",
    "        \"ID\" => id,\n",
    "        \"Longitude\" => \"\",\n",
    "        \"Latitude\" => \"\",\n",
    "        \"Coordinates\" => \"\",\n",
    "        \"Type\" => \"Highway - $(way.tags[\"highway\"])\",\n",
    "        \"color\" => get(COLOUR_MAPPING, way.tags[\"lanes\"], DEFAULT_GREEN),\n",
    "        \"Path\" => [[g.nodes[n_id].location.lon, g.nodes[n_id].location.lat] for n_id in way.nodes],\n",
    "        \"Name\" => delete_quotes(get(way.tags, \"name\", \"\")),\n",
    "        \"Maxspeed\" => way.tags[\"maxspeed\"],\n",
    "        \"Lanes\" => way.tags[\"lanes\"],\n",
    "        \"Oneway\" => way.tags[\"oneway\"]\n",
    "    ) for (id, way) in g.highways\n",
    "]\n",
    "\n",
    "# Build the layer\n",
    "ways_layer = pydeck.Layer(\"PathLayer\",\n",
    "                          ways_pydeck_data,\n",
    "                          pickable=true,\n",
    "                          get_color=\"color\",\n",
    "                          width_scale=1,\n",
    "                          width_min_pixels=2,\n",
    "                          get_path=\"Path\",\n",
    "                          get_width=2,\n",
    "                          auto_highlight=true,\n",
    "                          rounded=true)\n",
    "\n",
    "# Define tooltip\n",
    "ways_tooltip = Dict(\n",
    "    \"html\" => \"\n",
    "    <b>ID:</b> {ID}<br>\n",
    "    <b>Type:</b> {Type}<br>\n",
    "    <b>Name:</b> {Name}<br>\n",
    "    <b>Coordinates:</b> {Coordinates}<br>\n",
    "    <b>Maxspeed:</b> {Maxspeed}<br>\n",
    "    <b>Lanes:</b> {Lanes}<br>\n",
    "    <b>Oneway:</b> {Oneway}<br>\n",
    "    \",\n",
    "    \"style\" => tooltip_style\n",
    ")\n",
    "\n",
    "# Build the deck\n",
    "r = pydeck.Deck(layers=[ways_layer, nodes_layer],\n",
    "                initial_view_state=view_state,\n",
    "                mapbox_key=MAPBOX_TOKEN,\n",
    "                map_style=MAXPBOX_STYLE,\n",
    "                tooltip=ways_tooltip)\n",
    "\n",
    "# Save to .html file and display\n",
    "r.to_html(\"nodes_and_ways.html\", notebook_display=true)"
   ]
  },
  {
   "cell_type": "markdown",
   "metadata": {},
   "source": [
    "## Nearest Node\n",
    "Nearest `Node` calculations in this package is implemented with a `K-D Tree` data structure for fast querying. We can pick any point on the map (either a `Node` or a `GeoLocation`) to query `N` nearest `Node`s and the straight line distances (Euclidean) to each of these neighbours.\n",
    "\n",
    "If we use a `Node`'s `GeoLocation`, the closest node will technically be itself:"
   ]
  },
  {
   "cell_type": "code",
   "execution_count": null,
   "metadata": {},
   "outputs": [],
   "source": [
    "nearest_node(g, n1.location) # returns a Tuple ([[nearest nodes]], [[distances in km]])"
   ]
  },
  {
   "cell_type": "markdown",
   "metadata": {},
   "source": [
    "If a `Node` or `Node.id` is given as input, itself is not considered the closest node:"
   ]
  },
  {
   "cell_type": "code",
   "execution_count": null,
   "metadata": {},
   "outputs": [],
   "source": [
    "nearest_node(g, n1)"
   ]
  },
  {
   "cell_type": "markdown",
   "metadata": {},
   "source": [
    "We can use any `[latitude, longitude]` pair to query:"
   ]
  },
  {
   "cell_type": "code",
   "execution_count": null,
   "metadata": {},
   "outputs": [],
   "source": [
    "nearest_node(g, [-37.8142176, 144.9631608])"
   ]
  },
  {
   "cell_type": "markdown",
   "metadata": {},
   "source": [
    "We can query from multiple points:"
   ]
  },
  {
   "cell_type": "code",
   "execution_count": null,
   "metadata": {},
   "outputs": [],
   "source": [
    "nearest_node(g, [n1, n2]) # returns ([[n1_nbrs...], [n2_nbrs...]], [[n1_nbr_dists...], [n2_nbr_dists...]])"
   ]
  },
  {
   "cell_type": "markdown",
   "metadata": {},
   "source": [
    "And search for multiple neighbours:"
   ]
  },
  {
   "cell_type": "code",
   "execution_count": null,
   "metadata": {},
   "outputs": [],
   "source": [
    "neighbours, distances = nearest_node(g, [n1, n2], 100) "
   ]
  },
  {
   "cell_type": "markdown",
   "metadata": {},
   "source": [
    "Visualise `neighbours` and `distances` in an __[IconLayer](https://pydeck.gl/gallery/icon_layer.html?highlight=iconlayer)__:"
   ]
  },
  {
   "cell_type": "code",
   "execution_count": null,
   "metadata": {},
   "outputs": [],
   "source": [
    "# Create a new view state\n",
    "VIEWPORT_LOCATION_NBR = GeoLocation(-37.8073,144.9771)\n",
    "view_state_nbr = pydeck.ViewState(longitude=VIEWPORT_LOCATION_NBR.lon,\n",
    "                                  latitude=VIEWPORT_LOCATION_NBR.lat,\n",
    "                                  zoom=14,\n",
    "                                  min_zoom=1,\n",
    "                                  max_zoom=25,\n",
    "                                  pitch=50,\n",
    "                                  bearing=225);\n",
    "\n",
    "# Define icon data\n",
    "neighbour_icon_data = Dict(\n",
    "    # Icon taken from https://thenounproject.com/\n",
    "    \"url\" => \"data:image/svg+xml;base64,PHN2ZyBoZWlnaHQ9JzMwMHB4JyB3aWR0aD0nMzAwcHgnICBmaWxsPSIjMUExQTFBIiB4bWxucz0iaHR0cDovL3d3dy53My5vcmcvMjAwMC9zdmciIHhtbG5zOnhsaW5rPSJodHRwOi8vd3d3LnczLm9yZy8xOTk5L3hsaW5rIiB2ZXJzaW9uPSIxLjEiIHg9IjBweCIgeT0iMHB4IiB2aWV3Qm94PSIwIDAgMTAwIDEwMCIgc3R5bGU9ImVuYWJsZS1iYWNrZ3JvdW5kOm5ldyAwIDAgMTAwIDEwMDsiIHhtbDpzcGFjZT0icHJlc2VydmUiPjxwYXRoIGQ9Ik04NS45LDM4LjVDODUuOSwxOC43LDY5LjgsMi42LDUwLDIuNlMxNC4xLDE4LjcsMTQuMSwzOC41YzAsMTYuMywxMC44LDMwLDI1LjYsMzQuNGw3LjUsMTggIGMxLjIsMi4yLDQuMywyLjIsNS41LDBsNy41LTE4Qzc1LjEsNjguNSw4NS45LDU0LjgsODUuOSwzOC41eiI+PC9wYXRoPjwvc3ZnPg==\",\n",
    "    \"width\" => 242,\n",
    "    \"height\" => 242,\n",
    "    \"anchorY\" => 242,\n",
    "    \"mask\" => true # allows color to be altered with get_color kwarg\n",
    ")\n",
    "\n",
    "centroid_icon_data = Dict(\n",
    "    \"url\" => \"https://cdn.iconscout.com/icon/premium/png-512-thumb/destination-flag-8-902948.png\",\n",
    "    \"width\" => 242,\n",
    "    \"height\" => 242,\n",
    "    \"anchorY\" => 242,\n",
    ")\n",
    "\n",
    "# Define red-green colour scale, where 0 <= n <= 100\n",
    "red(n) = Int(round(255 * n / 100))\n",
    "green(n) = Int(round(255 * (100 - n) / 100)) \n",
    "blue(n) = 0\n",
    "\n",
    "# Transform data\n",
    "nbrs = [(neighbours...)...] # flatten\n",
    "dists = [(distances...)...] # flatten\n",
    "max_dist = max(dists...)\n",
    "scaled_dist(d) = (d / max_dist) * 100\n",
    "\n",
    "neighbours_pydeck_data = [\n",
    "    Dict(\n",
    "        \"ID\" => n,\n",
    "        \"Type\" => \"Neighbour\",\n",
    "        \"Longitude\" => g.nodes[n].location.lon,\n",
    "        \"Latitude\" => g.nodes[n].location.lat,\n",
    "        \"Coordinates\" => string([g.nodes[n].location.lon, g.nodes[n].location.lat]),\n",
    "        \"Distance\" => string(round(dists[i]*1000, digits=2))*\"m\",\n",
    "        \"Icon\" => neighbour_icon_data,\n",
    "        \"Colour\" => [red(scaled_dist(dists[i])), green(scaled_dist(dists[i])), blue(scaled_dist(dists[i]))]\n",
    "    ) for (i, n) in enumerate(nbrs)\n",
    "]\n",
    "\n",
    "centroid_pydeck_data = [\n",
    "    Dict(\n",
    "        \"ID\" => n.id,\n",
    "        \"Type\" => \"Centroid\",\n",
    "        \"Longitude\" => n.location.lon,\n",
    "        \"Latitude\" => n.location.lat,\n",
    "        \"Coordinates\" => string([n.location.lon, n.location.lat]),\n",
    "        \"Icon\" => centroid_icon_data,\n",
    "        \"Distance\" => \"0m\"\n",
    "    ) for n in [n1, n2]\n",
    "]\n",
    "\n",
    "# Build the layer\n",
    "neighbours_layer = pydeck.Layer(\"IconLayer\",\n",
    "                                data=neighbours_pydeck_data,\n",
    "                                get_icon=\"Icon\",\n",
    "                                get_size=5,\n",
    "                                size_min_pixels=50,\n",
    "                                size_max_pixels=30,\n",
    "                                filled=true,\n",
    "                                get_color=\"Colour\",\n",
    "                                opacity=0.5,\n",
    "                                get_position=[\"Longitude\", \"Latitude\"],\n",
    "                                pickable=true,\n",
    "                                auto_highlight=true)\n",
    "\n",
    "centroid_layer = pydeck.Layer(\"IconLayer\",\n",
    "                              data=centroid_pydeck_data,\n",
    "                              get_icon=\"Icon\",\n",
    "                              get_size=5,\n",
    "                              size_min_pixels=60,\n",
    "                              size_max_pixels=60,\n",
    "                              filled=true,\n",
    "                              get_color=[72, 209, 204],\n",
    "                              get_position=[\"Longitude\", \"Latitude\"],\n",
    "                              pickable=true,\n",
    "                              auto_highlight=true)\n",
    "\n",
    "# Define tooltip\n",
    "neighbours_tooltip = Dict(\n",
    "    \"html\" => \"\n",
    "    <b>ID:</b> {ID}<br>\n",
    "    <b>Type:</b> {Type}<br>\n",
    "    <b>Coordinates:</b> {Coordinates}<br>\n",
    "    <b>Distance From Centroid:</b> {Distance}<br>\n",
    "    \",\n",
    "    \"style\" => tooltip_style\n",
    ")\n",
    "\n",
    "# Build the deck\n",
    "r = pydeck.Deck(layers=[neighbours_layer, centroid_layer],\n",
    "                initial_view_state=view_state_nbr,\n",
    "                mapbox_key=MAPBOX_TOKEN,\n",
    "                map_style=MAXPBOX_STYLE,\n",
    "                tooltip=neighbours_tooltip)\n",
    "\n",
    "\n",
    "# Save to .html file and display\n",
    "r.to_html(\"neighbours.html\", notebook_display=true)"
   ]
  },
  {
   "cell_type": "markdown",
   "metadata": {},
   "source": [
    "## Shortest Path\n",
    "\n",
    "To calculate the shortest path between two `Node`s, we can use the `Dijkstra` or `A*` algorithm. These differ to those implemented in __[LightGraphs](https://github.com/JuliaGraphs/LightGraphs.jl)__ and __[OpenStreetMapX.jl](https://github.com/pszufe/OpenStreetMapX.jl)__ as __[`LightOSM.jl`](https://github.com/DeloitteDigitalAPAC/LightOSM.jl)__ takes into account `turn restrictions`.\n",
    "\n",
    "Let's start by calculating the shortest path between `n1` and `n2`:"
   ]
  },
  {
   "cell_type": "code",
   "execution_count": null,
   "metadata": {},
   "outputs": [],
   "source": [
    "path = shortest_path(g, n1, n2, algorithm=:dijkstra)"
   ]
  },
  {
   "cell_type": "markdown",
   "metadata": {},
   "source": [
    "Retrieve the `Edge` weights for the path (`:distance` was selected as the `:weight_type` earlier): "
   ]
  },
  {
   "cell_type": "code",
   "execution_count": null,
   "metadata": {},
   "outputs": [],
   "source": [
    "weights = weights_from_path(g, path) # km"
   ]
  },
  {
   "cell_type": "markdown",
   "metadata": {},
   "source": [
    "Cumulative edge distance:"
   ]
  },
  {
   "cell_type": "code",
   "execution_count": null,
   "metadata": {},
   "outputs": [],
   "source": [
    "cum_weights = cumsum(weights)"
   ]
  },
  {
   "cell_type": "markdown",
   "metadata": {},
   "source": [
    "Total path distance in km is therefore the last index:"
   ]
  },
  {
   "cell_type": "code",
   "execution_count": null,
   "metadata": {},
   "outputs": [],
   "source": [
    "total_distance = cum_weights[end]"
   ]
  },
  {
   "cell_type": "markdown",
   "metadata": {},
   "source": [
    "`Edge`s are segments of a `Way` and are defined as adjacent origin-destination `Node` pairs:"
   ]
  },
  {
   "cell_type": "code",
   "execution_count": null,
   "metadata": {},
   "outputs": [],
   "source": [
    "edges = [[path[i], path[i + 1]] for i in 1:length(path) - 1]"
   ]
  },
  {
   "cell_type": "markdown",
   "metadata": {},
   "source": [
    "Use `Edge`s to find the corresponding `Way`s:"
   ]
  },
  {
   "cell_type": "code",
   "execution_count": null,
   "metadata": {},
   "outputs": [],
   "source": [
    "way_ids = [g.edge_to_highway[e] for e in edges]"
   ]
  },
  {
   "cell_type": "markdown",
   "metadata": {},
   "source": [
    "Now with our `Node`s, `Edge`s and `Way`s we can plot the shortest path using a __[LineLayer](https://pydeck.gl/gallery/line_layer.html?highlight=linelayer)__:"
   ]
  },
  {
   "cell_type": "code",
   "execution_count": null,
   "metadata": {},
   "outputs": [],
   "source": [
    "# Define icon data\n",
    "start_finish_icons = [\n",
    "    Dict(\n",
    "        \"url\" => \"data:image/svg+xml;base64,PHN2ZyBoZWlnaHQ9JzMwMHB4JyB3aWR0aD0nMzAwcHgnICBmaWxsPSIjMUExQTFBIiB4bWxucz0iaHR0cDovL3d3dy53My5vcmcvMjAwMC9zdmciIGRhdGEtbmFtZT0iTGF5ZXIgMSIgdmlld0JveD0iMCAwIDEwMCAxMDAiIHg9IjBweCIgeT0iMHB4Ij48dGl0bGU+VmVoaWNsZXM8L3RpdGxlPjxwYXRoIGQ9Ik0xMDAsNTcuNTZ2LS4wOGE0Ljc1LDQuNzUsMCwwLDAtLjE5LTFDOTguNTEsNTAuNDgsOTQsNDUuMDYsODgsNDMuNTJBNjQuMzksNjQuMzksMCwwLDAsNzksNDJhNy4yOSw3LjI5LDAsMCwxLTUuNzEtMy4yNmMtNS4zMy03LjYyLTEyLjc3LTEyLTIxLjg5LTEzLjY1YTc5LjYxLDc5LjYxLDAsMCwwLTI1LjgyLjA2LDE2LjU3LDE2LjU3LDAsMCwwLTExLjkzLDcuNzdjLTEuMDksMS42OS0xLjk0LDMuNTYtMy4xMiw1LjE4YTE5LjY2LDE5LjY2LDAsMCwxLTQuMSw0LjY4QTEyLjYyLDEyLjYyLDAsMCwwLC45MSw1MC44OEMuNSw1My4wOS4yMyw1NS4zMiwwLDU3LjU2SC4wNWE1LjE5LDUuMTksMCwwLDAsMCwuNjh2NWEyLDIsMCwwLDAsMiwxLjk1aDcuNWExMi4wOSwxMi4wOSwwLDAsMSwyNC4wNSwwSDY5LjM3YzAtLjE1LDAtLjMsMC0uNDVhMTIuMSwxMi4xLDAsMCwxLDI0LjE5LDBjMCwuMTUsMCwuMywwLC40NWg0LjUzYTIsMiwwLDAsMCwyLTEuOTVWNTcuODJhMi4zNSwyLjM1LDAsMCwwLDAtLjI2Wk0zOS40LDQ0LjExYy02LDAtMTEuODQuMTUtMTcuNjctLjA3LTIuODctLjEtMy41NC0xLjYyLTIuNDgtNC4zNCwzLjUyLTksOS4yLTExLjk0LDIwLjE1LTEwLjI2Wm0yNS44MSwwYy02LjUxLjEtMTMsMC0xOS44OSwwVjI5LjU5YzcuNTEtMS4zOSwxOC43OCw0LjQsMjIsMTEuMjZDNjguMyw0Myw2Ny43Myw0NC4xMiw2NS4yMSw0NC4xNloiPjwvcGF0aD48cGF0aCBkPSJNMjEuNDcsNTdBOS41MSw5LjUxLDAsMSwwLDMxLDY2LjQ3LDkuNSw5LjUsMCwwLDAsMjEuNDcsNTdabTAsMTMuNzNhNC4yMyw0LjIzLDAsMSwxLDQuMjMtNC4yMkE0LjIyLDQuMjIsMCwwLDEsMjEuNDcsNzAuNjlaIj48L3BhdGg+PHBhdGggZD0iTTkxLDY0Ljc2YTkuNTEsOS41MSwwLDEsMC05LjUsOS41MUE5LjUsOS41LDAsMCwwLDkxLDY0Ljc2Wm0tMTMuNzMsMEE0LjIzLDQuMjMsMCwxLDEsODEuNDUsNjksNC4yNCw0LjI0LDAsMCwxLDc3LjIyLDY0Ljc2WiI+PC9wYXRoPjwvc3ZnPg==\",\n",
    "        \"width\" => 242,\n",
    "        \"height\" => 242,\n",
    "        \"anchorY\" => 242,\n",
    "        \"mask\" => true\n",
    "    ),\n",
    "    Dict(\n",
    "        \"url\" => \"data:image/svg+xml;base64,PHN2ZyBoZWlnaHQ9JzMwMHB4JyB3aWR0aD0nMzAwcHgnICBmaWxsPSIjMUExQTFBIiB4bWxuczp4PSJodHRwOi8vbnMuYWRvYmUuY29tL0V4dGVuc2liaWxpdHkvMS4wLyIgeG1sbnM6aT0iaHR0cDovL25zLmFkb2JlLmNvbS9BZG9iZUlsbHVzdHJhdG9yLzEwLjAvIiB4bWxuczpncmFwaD0iaHR0cDovL25zLmFkb2JlLmNvbS9HcmFwaHMvMS4wLyIgeG1sbnM9Imh0dHA6Ly93d3cudzMub3JnLzIwMDAvc3ZnIiB4bWxuczp4bGluaz0iaHR0cDovL3d3dy53My5vcmcvMTk5OS94bGluayIgdmVyc2lvbj0iMS4xIiB4PSIwcHgiIHk9IjBweCIgdmlld0JveD0iMCAwIDY0IDY0IiBlbmFibGUtYmFja2dyb3VuZD0ibmV3IDAgMCA2NCA2NCIgeG1sOnNwYWNlPSJwcmVzZXJ2ZSI+PG1ldGFkYXRhPjxzZncgeG1sbnM9Imh0dHA6Ly9ucy5hZG9iZS5jb20vU2F2ZUZvcldlYi8xLjAvIj48c2xpY2VzPjwvc2xpY2VzPjxzbGljZVNvdXJjZUJvdW5kcyB4PSItNzg2NSIgeT0iLTIzMCIgd2lkdGg9IjE2MzgzIiBoZWlnaHQ9IjIyOCIgYm90dG9tTGVmdE9yaWdpbj0idHJ1ZSI+PC9zbGljZVNvdXJjZUJvdW5kcz48L3Nmdz48L21ldGFkYXRhPjxwYXRoIGQ9Ik01Myw1SDM5SDI1Yy0wLjU1MiwwLTEsMC40NDgtMSwxdjEwdjEwYzAsMC41NTIsMC40NDgsMSwxLDFoMTRoMTRjMC41NTIsMCwxLTAuNDQ4LDEtMVYxNlY2QzU0LDUuNDQ4LDUzLjU1Miw1LDUzLDV6ICAgTTUyLDE1SDQwVjdoMTJWMTV6IE0yNiwxN2gxMnY4SDI2VjE3eiI+PC9wYXRoPjxwYXRoIGQ9Ik0yOC45OTcsNjAuNzg3Yy0wLjEwNC0zLjk3Ni0zLjEyNi03LjIzMS02Ljk5Ny03LjcxN1YzYzAtMC41NTItMC40NDgtMS0xLTFzLTEsMC40NDgtMSwxdjUwLjA2OSAgYy0zLjk0LDAuNDk1LTcsMy44NTktNyw3LjkzMWMwLDAuNTUyLDAuNDQ4LDEsMSwxaDE0YzAuMDA3LDAsMC4wMTMtMC4wMDEsMC4wMiwwYzAuNTUyLDAsMS0wLjQ0OCwxLTEgIEMyOS4wMiw2MC45MjcsMjkuMDEyLDYwLjg1NSwyOC45OTcsNjAuNzg3eiI+PC9wYXRoPjwvc3ZnPg==\",\n",
    "        \"width\" => 242,\n",
    "        \"height\" => 242,\n",
    "        \"anchorY\" => 242,\n",
    "        \"mask\" => true,\n",
    "    )\n",
    "]\n",
    "\n",
    "# Define red-blue colour scale, where 0 <= n <= 100\n",
    "red2(n) = Int(round(255 * n / 100))\n",
    "green2(n) = 0\n",
    "blue2(n) = Int(round(255 * (100 - n) / 100)) \n",
    "scaled_w(d) = (d / total_distance) * 100\n",
    "\n",
    "# Transform data\n",
    "labels = [\"Origin Node\", \"Destination Node\"]\n",
    "start_finish_data = [\n",
    "    Dict(\n",
    "        \"ID\" => n.id,\n",
    "        \"Type\" => labels[i],\n",
    "        \"Longitude\" => n.location.lon,\n",
    "        \"Latitude\" => n.location.lat,\n",
    "        \"Coordinates\" => string([n.location.lon, n.location.lat]),\n",
    "        \"Icon\" => start_finish_icons[i],\n",
    "        \"Distance\" => \"\",\n",
    "        \"Name\" => \"\",\n",
    "        \"Maxspeed\" => \"\",\n",
    "        \"Lanes\" => \"\",\n",
    "        \"Oneway\" => \"\",\n",
    "        \"Edge\" => \"\"\n",
    "    ) for (i, n) in enumerate([n1, n2])\n",
    "]\n",
    "\n",
    "shortest_path_pydeck_data = [\n",
    "    Dict(\n",
    "        \"ID\" => way_ids[i],\n",
    "        \"Edge\" => string([origin, destination]),\n",
    "        \"Type\" => \"Highway - $(g.highways[way_ids[i]].tags[\"highway\"])\",\n",
    "        \"start\" => [g.nodes[origin].location.lon, g.nodes[origin].location.lat],\n",
    "        \"end\" => [g.nodes[destination].location.lon, g.nodes[destination].location.lat],\n",
    "        \"Colour\" => [red2(scaled_w(cum_weights[i])), green2(scaled_w(cum_weights[i])), blue2(scaled_w(cum_weights[i]))],\n",
    "        \"Name\" => delete_quotes(get(g.highways[way_ids[i]].tags, \"name\", \"\")),\n",
    "        \"Maxspeed\" => g.highways[way_ids[i]].tags[\"maxspeed\"],\n",
    "        \"Lanes\" => g.highways[way_ids[i]].tags[\"lanes\"],\n",
    "        \"Oneway\" => g.highways[way_ids[i]].tags[\"oneway\"],\n",
    "        \"Coordinates\" => \"\",\n",
    "        \"Distance\" => string(round(cum_weights[i] * 1000, digits=2)) * \"m\"\n",
    "    ) for (i, (origin, destination)) in enumerate(edges)\n",
    "]\n",
    "\n",
    "\n",
    "# Build the layer\n",
    "start_finish_layer = pydeck.Layer(\"IconLayer\",\n",
    "                                  data=start_finish_data,\n",
    "                                  get_icon=\"Icon\",\n",
    "                                  get_size=5,\n",
    "                                  size_min_pixels=60,\n",
    "                                  size_max_pixels=60,\n",
    "                                  filled=true,\n",
    "                                  get_position=[\"Longitude\", \"Latitude\"],\n",
    "                                  pickable=true,\n",
    "                                  highlight_color=[106, 110, 117],\n",
    "                                  auto_highlight=true)\n",
    "\n",
    "shortest_path_layer = pydeck.Layer(\"LineLayer\",\n",
    "                                   shortest_path_pydeck_data,\n",
    "                                   get_source_position=\"start\",\n",
    "                                   get_target_position=\"end\",\n",
    "                                   get_color=\"Colour\",\n",
    "                                   get_width=7,\n",
    "                                   picking_radius=10,\n",
    "                                   auto_highlight=true,\n",
    "                                   highlight_color=[106, 110, 117],\n",
    "                                   rounded=true,\n",
    "                                   pickable=true)\n",
    "\n",
    "# Define tooltip\n",
    "shortest_path_tooltip = Dict(\n",
    "    \"html\" => \"\n",
    "    <b>ID:</b> {ID}<br>\n",
    "    <b>Edge:</b> {Edge}<br>\n",
    "    <b>Type:</b> {Type}<br>\n",
    "    <b>Coordinates:</b> {Coordinates}<br>\n",
    "    <b>Name:</b> {Name}<br>\n",
    "    <b>Maxspeed:</b> {Maxspeed}<br>\n",
    "    <b>Lanes:</b> {Lanes}<br>\n",
    "    <b>Oneway:</b> {Oneway}<br>\n",
    "    <b>Distance From Origin:</b> {Distance}<br>\n",
    "    \",\n",
    "    \"style\" => tooltip_style\n",
    ")\n",
    "\n",
    "# Build the deck\n",
    "r = pydeck.Deck(layers=[start_finish_layer, shortest_path_layer],\n",
    "                initial_view_state=view_state_nbr,\n",
    "                mapbox_key=MAPBOX_TOKEN,\n",
    "                map_style=MAXPBOX_STYLE,\n",
    "                tooltip=shortest_path_tooltip)\n",
    "\n",
    "\n",
    "# Save to .html file and display\n",
    "r.to_html(\"shortest_path.html\", notebook_display=true)"
   ]
  },
  {
   "cell_type": "markdown",
   "metadata": {},
   "source": [
    "Now let's generate some random origin-destination `Node` pairs:"
   ]
  },
  {
   "cell_type": "code",
   "execution_count": null,
   "metadata": {},
   "outputs": [],
   "source": [
    "n_paths = 1000\n",
    "rand_o_d_indices = rand(1:length(g.nodes), n_paths, 2)\n",
    "rand_o_d_nodes = [[g.index_to_node[o], g.index_to_node[d]] for (o, d) in eachrow(rand_o_d_indices) if o != d]"
   ]
  },
  {
   "cell_type": "markdown",
   "metadata": {},
   "source": [
    "Calculate shortest path between each origin-destination `Node` pair:"
   ]
  },
  {
   "cell_type": "code",
   "execution_count": null,
   "metadata": {},
   "outputs": [],
   "source": [
    "paths = []\n",
    "\n",
    "@time for (o, d) in rand_o_d_nodes\n",
    "    try\n",
    "        p = shortest_path(g, o, d, algorithm=:dijkstra)\n",
    "        push!(paths, p)\n",
    "    catch\n",
    "        # Error exception will be thrown if path does not exist from origin to destination node\n",
    "    end\n",
    "end"
   ]
  },
  {
   "cell_type": "markdown",
   "metadata": {},
   "source": [
    "Retrieve total distance in km for each path:"
   ]
  },
  {
   "cell_type": "code",
   "execution_count": null,
   "metadata": {},
   "outputs": [],
   "source": [
    "total_distances = round.(sum.([weights_from_path(g, p) for p in paths]), digits=2)"
   ]
  },
  {
   "cell_type": "markdown",
   "metadata": {},
   "source": [
    "We can plot these shortest paths using the `TripsLayer`, unfortunately unlike its parent library deck.gl, pydeck currently does not support dynamic animation of the `TripsLayer` against `current_time` (this requires some JavaScript methods such as `requestAnimationFrame`):"
   ]
  },
  {
   "cell_type": "code",
   "execution_count": null,
   "metadata": {
    "scrolled": false
   },
   "outputs": [],
   "source": [
    "# Transform data\n",
    "trips_pydeck_data = [\n",
    "    Dict(\n",
    "        \"Coordinates\" => [[g.nodes[node_id].location.lon, g.nodes[node_id].location.lat] for node_id in path],\n",
    "        \"Timestamps\" => collect(0:length(path)-1),\n",
    "        \"Colour\" => [rand(1:255), rand(1:255), rand(1:255)],\n",
    "        \"Distance\" => total_distances[i],\n",
    "        \"Origin\" => path[1],\n",
    "        \"Destination\" => path[end]\n",
    "    ) for (i, path) in enumerate(paths)\n",
    "]\n",
    "\n",
    "# Build the layer\n",
    "trips_layer = pydeck.Layer(\"TripsLayer\",\n",
    "                           trips_pydeck_data,\n",
    "                           get_path=\"Coordinates\",\n",
    "                           get_timestamps=\"Timestamps\",\n",
    "                           get_color=\"Colour\",\n",
    "                           opacity=0.8,\n",
    "                           width_min_pixels=5,\n",
    "                           rounded=true,\n",
    "                           trail_length=50,\n",
    "                           current_time=100,\n",
    "                           pickable=true,\n",
    "                           auto_highlight=true)\n",
    "\n",
    "# Define tooltip\n",
    "trips_tooltip=Dict(\n",
    "    \"html\" => \"\n",
    "    <b>Path Distance:</b> {Distance}km<br>\n",
    "    <b>Origin:</b> {Origin}<br>\n",
    "    <b>Destination:</b> {Destination}<br>\n",
    "    \",\n",
    "    \"style\" => tooltip_style\n",
    ")\n",
    "\n",
    "# Build the deck\n",
    "r = pydeck.Deck(layers=[trips_layer],\n",
    "                initial_view_state=view_state,\n",
    "                mapbox_key=MAPBOX_TOKEN,\n",
    "                map_style=MAXPBOX_STYLE,\n",
    "                tooltip=trips_tooltip)\n",
    "\n",
    "# Save to .html file and display\n",
    "r.to_html(\"trips.html\", notebook_display=true)"
   ]
  },
  {
   "cell_type": "markdown",
   "metadata": {},
   "source": [
    "## Download and visualise buildings\n",
    "\n",
    "Similar to downloading an OpenStreetMap network, we can also download `Building` polygons by searching with a `:place_name`, centroid `:point` or `:bbox`:"
   ]
  },
  {
   "cell_type": "code",
   "execution_count": null,
   "metadata": {},
   "outputs": [],
   "source": [
    "buildings_data = download_osm_buildings(:place_name,\n",
    "                                        place_name=\"melbourne, australia\",\n",
    "                                        save_to_file_location=\"melbourne_buildings.osm\");"
   ]
  },
  {
   "cell_type": "markdown",
   "metadata": {},
   "source": [
    "We can then parse and instantiate `Building` objects from the data downloaded (either using the in-memory data object, a saved file or a direct download method):"
   ]
  },
  {
   "cell_type": "code",
   "execution_count": null,
   "metadata": {},
   "outputs": [],
   "source": [
    "buildings = buildings_from_object(buildings_data)\n",
    "# or buildings = buildings_from_file(\"melbourne_buildings.osm\")\n",
    "# or buildings = buildings_from_download(:place_name, place_name=\"melbourne, australia\")"
   ]
  },
  {
   "cell_type": "markdown",
   "metadata": {},
   "source": [
    "`Building`s consist of an array of `Polygon`s, the first element is always the `outer` ring, followed by any optional `inner` rings (`inner` rings are holes in the `outer` ring), each with their own set of `Node`s:"
   ]
  },
  {
   "cell_type": "code",
   "execution_count": null,
   "metadata": {},
   "outputs": [],
   "source": [
    "buildings[127595640].polygons[1].nodes\n",
    "buildings[127595640].polygons[1].is_outer"
   ]
  },
  {
   "cell_type": "markdown",
   "metadata": {},
   "source": [
    "`Building` metadata tags:"
   ]
  },
  {
   "cell_type": "code",
   "execution_count": null,
   "metadata": {},
   "outputs": [],
   "source": [
    "buildings[127595640].tags # height is in metres"
   ]
  },
  {
   "cell_type": "markdown",
   "metadata": {},
   "source": [
    "Visualise `Building`s with a __[PolygonLayer](https://pydeck.gl/gallery/polygon_layer.html)__:"
   ]
  },
  {
   "cell_type": "code",
   "execution_count": null,
   "metadata": {},
   "outputs": [],
   "source": [
    "# Transform data\n",
    "max_height = max([b.tags[\"height\"] for (id, b) in buildings]...)\n",
    "rbg(d) = 255 - Int(round((d / max_height * 255)))\n",
    "\n",
    "buildings_pydeck_data = [\n",
    "    Dict(\n",
    "        \"Polygons\" => [[[node.location.lon, node.location.lat] for node in poly.nodes] for poly in b.polygons], # array of polygons (i.e. array of array of coordinates)\n",
    "        \"Height\" => b.tags[\"height\"],\n",
    "        \"Colour\" => [rand(1:255), rand(1:255), rand(1:255)],\n",
    "        \"Name\" => delete_quotes(string(get(b.tags, \"name\", \"\"))),\n",
    "        \"Description\" => delete_quotes(string(get(b.tags, \"description\", \"\"))),\n",
    "        \"Website\" => delete_quotes(string(get(b.tags, \"website\", \"\"))),\n",
    "        \"Colour\" => [rbg(b.tags[\"height\"]), rbg(b.tags[\"height\"]), rbg(b.tags[\"height\"])], # grey scale\n",
    "        \"ID\" => id\n",
    "    ) for (id, b) in buildings\n",
    "]\n",
    "\n",
    "# Build the layer\n",
    "buildings_layer = pydeck.Layer(\"PolygonLayer\",\n",
    "                               buildings_pydeck_data,\n",
    "                               id=\"geojson\",\n",
    "                               opacity=0.2,\n",
    "                               stroked=false,\n",
    "                               get_polygon=\"Polygons\",\n",
    "                               filled=true,\n",
    "                               extruded=true,\n",
    "                               wireframe=true,\n",
    "                               get_elevation=\"Height\",\n",
    "                               get_fill_color=\"Colour\",\n",
    "                               get_line_color=[255, 255, 255],\n",
    "                               auto_highlight=true,\n",
    "                               pickable=true,\n",
    ")\n",
    "\n",
    "# Define tooltip\n",
    "buildings_tooltip = Dict(\n",
    "    \"html\" => \"\n",
    "    <b>ID:</b> {ID}<br>\n",
    "    <b>Name:</b> {Name}<br>\n",
    "    <b>Description:</b> {Description}<br>\n",
    "    <b>Height:</b> {Height}m<br>\n",
    "    <b>Website:</b> {Website}<br>\n",
    "    \",\n",
    "    \"style\" => tooltip_style\n",
    ")\n",
    "\n",
    "# Build the deck\n",
    "r = pydeck.Deck(layers=[buildings_layer],\n",
    "                initial_view_state=view_state,\n",
    "                mapbox_key=MAPBOX_TOKEN,\n",
    "                map_style=MAXPBOX_STYLE,\n",
    "                tooltip=buildings_tooltip)\n",
    "\n",
    "# Save to .html file and display\n",
    "r.to_html(\"buildings.html\", notebook_display=true)"
   ]
  }
 ],
 "metadata": {
  "kernelspec": {
   "display_name": "Julia 1.5.0",
   "language": "julia",
   "name": "julia-1.5"
  },
  "language_info": {
   "file_extension": ".jl",
   "mimetype": "application/julia",
   "name": "julia",
   "version": "1.5.0"
  },
  "toc": {
   "base_numbering": 1,
   "nav_menu": {},
   "number_sections": true,
   "sideBar": true,
   "skip_h1_title": true,
   "title_cell": "Table of Contents",
   "title_sidebar": "Contents",
   "toc_cell": false,
   "toc_position": {
    "height": "calc(100% - 180px)",
    "left": "10px",
    "top": "150px",
    "width": "221px"
   },
   "toc_section_display": true,
   "toc_window_display": true
  },
  "widgets": {
   "application/vnd.jupyter.widget-state+json": {
    "state": {},
    "version_major": 2,
    "version_minor": 0
   }
  }
 },
 "nbformat": 4,
 "nbformat_minor": 4
}
